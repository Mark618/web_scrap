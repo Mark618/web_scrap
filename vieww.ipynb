{
 "cells": [
  {
   "cell_type": "code",
   "execution_count": 1,
   "metadata": {},
   "outputs": [],
   "source": [
    "import pandas as pd"
   ]
  },
  {
   "cell_type": "code",
   "execution_count": 14,
   "metadata": {},
   "outputs": [],
   "source": [
    "df = pd.read_csv(\"data.csv\")"
   ]
  },
  {
   "cell_type": "code",
   "execution_count": 15,
   "metadata": {},
   "outputs": [
    {
     "data": {
      "text/plain": [
       "Index(['book_id', 'freebase_id', 'book_title', 'author', 'pub_date',\n",
       "       'book_genre', 'summary', 'url', 'pub_year'],\n",
       "      dtype='object')"
      ]
     },
     "execution_count": 15,
     "metadata": {},
     "output_type": "execute_result"
    }
   ],
   "source": [
    "df.columns"
   ]
  },
  {
   "cell_type": "code",
   "execution_count": 9,
   "metadata": {},
   "outputs": [
    {
     "data": {
      "text/html": [
       "<div>\n",
       "<style scoped>\n",
       "    .dataframe tbody tr th:only-of-type {\n",
       "        vertical-align: middle;\n",
       "    }\n",
       "\n",
       "    .dataframe tbody tr th {\n",
       "        vertical-align: top;\n",
       "    }\n",
       "\n",
       "    .dataframe thead th {\n",
       "        text-align: right;\n",
       "    }\n",
       "</style>\n",
       "<table border=\"1\" class=\"dataframe\">\n",
       "  <thead>\n",
       "    <tr style=\"text-align: right;\">\n",
       "      <th></th>\n",
       "      <th>book_id</th>\n",
       "      <th>freebase_id</th>\n",
       "      <th>book_title</th>\n",
       "      <th>author</th>\n",
       "      <th>pub_date</th>\n",
       "      <th>book_genre</th>\n",
       "      <th>summary</th>\n",
       "      <th>url</th>\n",
       "      <th>pub_year</th>\n",
       "    </tr>\n",
       "  </thead>\n",
       "  <tbody>\n",
       "    <tr>\n",
       "      <th>0</th>\n",
       "      <td>620</td>\n",
       "      <td>/m/0hhy</td>\n",
       "      <td>Animal Farm</td>\n",
       "      <td>George Orwell</td>\n",
       "      <td>1945-08-17</td>\n",
       "      <td>['Roman à clef', 'Satire', \"Children's literat...</td>\n",
       "      <td>Old Major, the old boar on the Manor Farm, ca...</td>\n",
       "      <td>https://encrypted-tbn3.gstatic.com/images?q=tb...</td>\n",
       "      <td>1945</td>\n",
       "    </tr>\n",
       "    <tr>\n",
       "      <th>1</th>\n",
       "      <td>843</td>\n",
       "      <td>/m/0k36</td>\n",
       "      <td>A Clockwork Orange</td>\n",
       "      <td>Anthony Burgess</td>\n",
       "      <td>1962</td>\n",
       "      <td>['Science Fiction', 'Novella', 'Speculative fi...</td>\n",
       "      <td>Alex, a teenager living in near-future Englan...</td>\n",
       "      <td>https://encrypted-tbn2.gstatic.com/images?q=tb...</td>\n",
       "      <td>1962</td>\n",
       "    </tr>\n",
       "    <tr>\n",
       "      <th>2</th>\n",
       "      <td>986</td>\n",
       "      <td>/m/0ldx</td>\n",
       "      <td>The Plague</td>\n",
       "      <td>Albert Camus</td>\n",
       "      <td>1947</td>\n",
       "      <td>['Existentialism', 'Fiction', 'Absurdist ficti...</td>\n",
       "      <td>The text of The Plague is divided into five p...</td>\n",
       "      <td>https://encrypted-tbn1.gstatic.com/images?q=tb...</td>\n",
       "      <td>1947</td>\n",
       "    </tr>\n",
       "    <tr>\n",
       "      <th>3</th>\n",
       "      <td>2152</td>\n",
       "      <td>/m/0x5g</td>\n",
       "      <td>All Quiet on the Western Front</td>\n",
       "      <td>Erich Maria Remarque</td>\n",
       "      <td>1929-01-29</td>\n",
       "      <td>['War novel', 'Roman à clef']</td>\n",
       "      <td>The book tells the story of Paul Bäumer, a Ge...</td>\n",
       "      <td>https://encrypted-tbn0.gstatic.com/images?q=tb...</td>\n",
       "      <td>1929</td>\n",
       "    </tr>\n",
       "    <tr>\n",
       "      <th>4</th>\n",
       "      <td>2890</td>\n",
       "      <td>/m/011zx</td>\n",
       "      <td>A Wizard of Earthsea</td>\n",
       "      <td>Ursula K. Le Guin</td>\n",
       "      <td>1968</td>\n",
       "      <td>[\"Children's literature\", 'Fantasy', 'Speculat...</td>\n",
       "      <td>Ged is a young boy on Gont, one of the larger...</td>\n",
       "      <td>https://encrypted-tbn1.gstatic.com/images?q=tb...</td>\n",
       "      <td>1968</td>\n",
       "    </tr>\n",
       "  </tbody>\n",
       "</table>\n",
       "</div>"
      ],
      "text/plain": [
       "   book_id freebase_id                      book_title                author  \\\n",
       "0      620     /m/0hhy                     Animal Farm         George Orwell   \n",
       "1      843     /m/0k36              A Clockwork Orange       Anthony Burgess   \n",
       "2      986     /m/0ldx                      The Plague          Albert Camus   \n",
       "3     2152     /m/0x5g  All Quiet on the Western Front  Erich Maria Remarque   \n",
       "4     2890    /m/011zx            A Wizard of Earthsea     Ursula K. Le Guin   \n",
       "\n",
       "     pub_date                                         book_genre  \\\n",
       "0  1945-08-17  ['Roman à clef', 'Satire', \"Children's literat...   \n",
       "1        1962  ['Science Fiction', 'Novella', 'Speculative fi...   \n",
       "2        1947  ['Existentialism', 'Fiction', 'Absurdist ficti...   \n",
       "3  1929-01-29                      ['War novel', 'Roman à clef']   \n",
       "4        1968  [\"Children's literature\", 'Fantasy', 'Speculat...   \n",
       "\n",
       "                                             summary  \\\n",
       "0   Old Major, the old boar on the Manor Farm, ca...   \n",
       "1   Alex, a teenager living in near-future Englan...   \n",
       "2   The text of The Plague is divided into five p...   \n",
       "3   The book tells the story of Paul Bäumer, a Ge...   \n",
       "4   Ged is a young boy on Gont, one of the larger...   \n",
       "\n",
       "                                                 url  pub_year  \n",
       "0  https://encrypted-tbn3.gstatic.com/images?q=tb...      1945  \n",
       "1  https://encrypted-tbn2.gstatic.com/images?q=tb...      1962  \n",
       "2  https://encrypted-tbn1.gstatic.com/images?q=tb...      1947  \n",
       "3  https://encrypted-tbn0.gstatic.com/images?q=tb...      1929  \n",
       "4  https://encrypted-tbn1.gstatic.com/images?q=tb...      1968  "
      ]
     },
     "execution_count": 9,
     "metadata": {},
     "output_type": "execute_result"
    }
   ],
   "source": [
    "df.head()"
   ]
  },
  {
   "cell_type": "code",
   "execution_count": 4,
   "metadata": {},
   "outputs": [],
   "source": [
    "df['pub_date']=df['pub_date'].astype('string')"
   ]
  },
  {
   "cell_type": "code",
   "execution_count": 5,
   "metadata": {},
   "outputs": [],
   "source": [
    "df['pub_year']=df.pub_date.str.slice(0,4,1)"
   ]
  },
  {
   "cell_type": "code",
   "execution_count": 7,
   "metadata": {},
   "outputs": [],
   "source": [
    "df.to_csv(\"data.csv\",index=False)"
   ]
  },
  {
   "cell_type": "code",
   "execution_count": 11,
   "metadata": {},
   "outputs": [
    {
     "data": {
      "text/plain": [
       "8305"
      ]
     },
     "execution_count": 11,
     "metadata": {},
     "output_type": "execute_result"
    }
   ],
   "source": [
    "df['url'].isna().sum()"
   ]
  },
  {
   "cell_type": "code",
   "execution_count": 10,
   "metadata": {},
   "outputs": [
    {
     "name": "stdout",
     "output_type": "stream",
     "text": [
      "<class 'pandas.core.frame.DataFrame'>\n",
      "RangeIndex: 9293 entries, 0 to 9292\n",
      "Data columns (total 9 columns):\n",
      " #   Column       Non-Null Count  Dtype \n",
      "---  ------       --------------  ----- \n",
      " 0   book_id      9293 non-null   int64 \n",
      " 1   freebase_id  9293 non-null   object\n",
      " 2   book_title   9293 non-null   object\n",
      " 3   author       9293 non-null   object\n",
      " 4   pub_date     9293 non-null   object\n",
      " 5   book_genre   9293 non-null   object\n",
      " 6   summary      9293 non-null   object\n",
      " 7   url          988 non-null    object\n",
      " 8   pub_year     9293 non-null   int64 \n",
      "dtypes: int64(2), object(7)\n",
      "memory usage: 653.5+ KB\n"
     ]
    }
   ],
   "source": [
    "df.info()"
   ]
  },
  {
   "cell_type": "code",
   "execution_count": 25,
   "metadata": {},
   "outputs": [
    {
     "data": {
      "text/html": [
       "<div>\n",
       "<style scoped>\n",
       "    .dataframe tbody tr th:only-of-type {\n",
       "        vertical-align: middle;\n",
       "    }\n",
       "\n",
       "    .dataframe tbody tr th {\n",
       "        vertical-align: top;\n",
       "    }\n",
       "\n",
       "    .dataframe thead th {\n",
       "        text-align: right;\n",
       "    }\n",
       "</style>\n",
       "<table border=\"1\" class=\"dataframe\">\n",
       "  <thead>\n",
       "    <tr style=\"text-align: right;\">\n",
       "      <th></th>\n",
       "      <th>book_id</th>\n",
       "      <th>freebase_id</th>\n",
       "      <th>book_title</th>\n",
       "      <th>author</th>\n",
       "      <th>pub_date</th>\n",
       "      <th>book_genre</th>\n",
       "      <th>summary</th>\n",
       "      <th>url</th>\n",
       "      <th>pub_year</th>\n",
       "    </tr>\n",
       "  </thead>\n",
       "  <tbody>\n",
       "    <tr>\n",
       "      <th>0</th>\n",
       "      <td>620</td>\n",
       "      <td>/m/0hhy</td>\n",
       "      <td>Animal Farm</td>\n",
       "      <td>George Orwell</td>\n",
       "      <td>1945-08-17</td>\n",
       "      <td>['Roman à clef', 'Satire', \"Children's literat...</td>\n",
       "      <td>Old Major, the old boar on the Manor Farm, ca...</td>\n",
       "      <td>https://encrypted-tbn3.gstatic.com/images?q=tb...</td>\n",
       "      <td>1945</td>\n",
       "    </tr>\n",
       "    <tr>\n",
       "      <th>1</th>\n",
       "      <td>843</td>\n",
       "      <td>/m/0k36</td>\n",
       "      <td>A Clockwork Orange</td>\n",
       "      <td>Anthony Burgess</td>\n",
       "      <td>1962</td>\n",
       "      <td>['Science Fiction', 'Novella', 'Speculative fi...</td>\n",
       "      <td>Alex, a teenager living in near-future Englan...</td>\n",
       "      <td>https://encrypted-tbn2.gstatic.com/images?q=tb...</td>\n",
       "      <td>1962</td>\n",
       "    </tr>\n",
       "    <tr>\n",
       "      <th>2</th>\n",
       "      <td>986</td>\n",
       "      <td>/m/0ldx</td>\n",
       "      <td>The Plague</td>\n",
       "      <td>Albert Camus</td>\n",
       "      <td>1947</td>\n",
       "      <td>['Existentialism', 'Fiction', 'Absurdist ficti...</td>\n",
       "      <td>The text of The Plague is divided into five p...</td>\n",
       "      <td>https://encrypted-tbn1.gstatic.com/images?q=tb...</td>\n",
       "      <td>1947</td>\n",
       "    </tr>\n",
       "    <tr>\n",
       "      <th>3</th>\n",
       "      <td>2152</td>\n",
       "      <td>/m/0x5g</td>\n",
       "      <td>All Quiet on the Western Front</td>\n",
       "      <td>Erich Maria Remarque</td>\n",
       "      <td>1929-01-29</td>\n",
       "      <td>['War novel', 'Roman à clef']</td>\n",
       "      <td>The book tells the story of Paul Bäumer, a Ge...</td>\n",
       "      <td>https://encrypted-tbn0.gstatic.com/images?q=tb...</td>\n",
       "      <td>1929</td>\n",
       "    </tr>\n",
       "    <tr>\n",
       "      <th>4</th>\n",
       "      <td>2890</td>\n",
       "      <td>/m/011zx</td>\n",
       "      <td>A Wizard of Earthsea</td>\n",
       "      <td>Ursula K. Le Guin</td>\n",
       "      <td>1968</td>\n",
       "      <td>[\"Children's literature\", 'Fantasy', 'Speculat...</td>\n",
       "      <td>Ged is a young boy on Gont, one of the larger...</td>\n",
       "      <td>https://encrypted-tbn1.gstatic.com/images?q=tb...</td>\n",
       "      <td>1968</td>\n",
       "    </tr>\n",
       "  </tbody>\n",
       "</table>\n",
       "</div>"
      ],
      "text/plain": [
       "   book_id freebase_id                      book_title                author  \\\n",
       "0      620     /m/0hhy                     Animal Farm         George Orwell   \n",
       "1      843     /m/0k36              A Clockwork Orange       Anthony Burgess   \n",
       "2      986     /m/0ldx                      The Plague          Albert Camus   \n",
       "3     2152     /m/0x5g  All Quiet on the Western Front  Erich Maria Remarque   \n",
       "4     2890    /m/011zx            A Wizard of Earthsea     Ursula K. Le Guin   \n",
       "\n",
       "     pub_date                                         book_genre  \\\n",
       "0  1945-08-17  ['Roman à clef', 'Satire', \"Children's literat...   \n",
       "1        1962  ['Science Fiction', 'Novella', 'Speculative fi...   \n",
       "2        1947  ['Existentialism', 'Fiction', 'Absurdist ficti...   \n",
       "3  1929-01-29                      ['War novel', 'Roman à clef']   \n",
       "4        1968  [\"Children's literature\", 'Fantasy', 'Speculat...   \n",
       "\n",
       "                                             summary  \\\n",
       "0   Old Major, the old boar on the Manor Farm, ca...   \n",
       "1   Alex, a teenager living in near-future Englan...   \n",
       "2   The text of The Plague is divided into five p...   \n",
       "3   The book tells the story of Paul Bäumer, a Ge...   \n",
       "4   Ged is a young boy on Gont, one of the larger...   \n",
       "\n",
       "                                                 url  pub_year  \n",
       "0  https://encrypted-tbn3.gstatic.com/images?q=tb...      1945  \n",
       "1  https://encrypted-tbn2.gstatic.com/images?q=tb...      1962  \n",
       "2  https://encrypted-tbn1.gstatic.com/images?q=tb...      1947  \n",
       "3  https://encrypted-tbn0.gstatic.com/images?q=tb...      1929  \n",
       "4  https://encrypted-tbn1.gstatic.com/images?q=tb...      1968  "
      ]
     },
     "execution_count": 25,
     "metadata": {},
     "output_type": "execute_result"
    }
   ],
   "source": [
    "df.head()"
   ]
  },
  {
   "cell_type": "code",
   "execution_count": 1,
   "metadata": {},
   "outputs": [],
   "source": [
    "import sqlite3\n",
    "import pandas as pd"
   ]
  },
  {
   "cell_type": "code",
   "execution_count": 18,
   "metadata": {},
   "outputs": [],
   "source": [
    "con = sqlite3.connect(\"/home/mark/Documents/book_nlp_project/book_site/db.sqlite3\")\n",
    "\n",
    "df.to_sql(\"main_book\",con,index=False,if_exists=\"append\")\n",
    "con.close()\n"
   ]
  },
  {
   "cell_type": "code",
   "execution_count": 16,
   "metadata": {},
   "outputs": [
    {
     "data": {
      "text/plain": [
       "9293"
      ]
     },
     "execution_count": 16,
     "metadata": {},
     "output_type": "execute_result"
    }
   ],
   "source": [
    "df.to_sql(\"Book\",con,if_exists=\"replace\")"
   ]
  },
  {
   "cell_type": "code",
   "execution_count": 17,
   "metadata": {},
   "outputs": [],
   "source": [
    "con.close()"
   ]
  },
  {
   "cell_type": "code",
   "execution_count": 2,
   "metadata": {},
   "outputs": [],
   "source": [
    "con = sqlite3.connect(\"/home/mark/Documents/book_nlp_project/book_site/db.sqlite3\")"
   ]
  },
  {
   "cell_type": "code",
   "execution_count": 3,
   "metadata": {},
   "outputs": [
    {
     "data": {
      "text/html": [
       "<div>\n",
       "<style scoped>\n",
       "    .dataframe tbody tr th:only-of-type {\n",
       "        vertical-align: middle;\n",
       "    }\n",
       "\n",
       "    .dataframe tbody tr th {\n",
       "        vertical-align: top;\n",
       "    }\n",
       "\n",
       "    .dataframe thead th {\n",
       "        text-align: right;\n",
       "    }\n",
       "</style>\n",
       "<table border=\"1\" class=\"dataframe\">\n",
       "  <thead>\n",
       "    <tr style=\"text-align: right;\">\n",
       "      <th></th>\n",
       "      <th>book_id</th>\n",
       "      <th>freebase_id</th>\n",
       "      <th>title</th>\n",
       "      <th>pub_date</th>\n",
       "      <th>genre</th>\n",
       "      <th>author</th>\n",
       "      <th>summary</th>\n",
       "      <th>url</th>\n",
       "      <th>pub_year</th>\n",
       "    </tr>\n",
       "  </thead>\n",
       "  <tbody>\n",
       "  </tbody>\n",
       "</table>\n",
       "</div>"
      ],
      "text/plain": [
       "Empty DataFrame\n",
       "Columns: [book_id, freebase_id, title, pub_date, genre, author, summary, url, pub_year]\n",
       "Index: []"
      ]
     },
     "execution_count": 3,
     "metadata": {},
     "output_type": "execute_result"
    }
   ],
   "source": [
    "pd.read_sql_query(\"select * from main_book limit 1;\", con)"
   ]
  },
  {
   "cell_type": "code",
   "execution_count": 5,
   "metadata": {},
   "outputs": [],
   "source": [
    "con.close()"
   ]
  },
  {
   "cell_type": "code",
   "execution_count": 9,
   "metadata": {},
   "outputs": [],
   "source": [
    "df=df.iloc[:,1:]"
   ]
  },
  {
   "cell_type": "code",
   "execution_count": 10,
   "metadata": {},
   "outputs": [
    {
     "data": {
      "text/html": [
       "<div>\n",
       "<style scoped>\n",
       "    .dataframe tbody tr th:only-of-type {\n",
       "        vertical-align: middle;\n",
       "    }\n",
       "\n",
       "    .dataframe tbody tr th {\n",
       "        vertical-align: top;\n",
       "    }\n",
       "\n",
       "    .dataframe thead th {\n",
       "        text-align: right;\n",
       "    }\n",
       "</style>\n",
       "<table border=\"1\" class=\"dataframe\">\n",
       "  <thead>\n",
       "    <tr style=\"text-align: right;\">\n",
       "      <th></th>\n",
       "      <th>freebase_id</th>\n",
       "      <th>book_title</th>\n",
       "      <th>author</th>\n",
       "      <th>pub_date</th>\n",
       "      <th>book_genre</th>\n",
       "      <th>summary</th>\n",
       "      <th>url</th>\n",
       "      <th>pub_year</th>\n",
       "    </tr>\n",
       "  </thead>\n",
       "  <tbody>\n",
       "    <tr>\n",
       "      <th>0</th>\n",
       "      <td>/m/0hhy</td>\n",
       "      <td>Animal Farm</td>\n",
       "      <td>George Orwell</td>\n",
       "      <td>1945-08-17</td>\n",
       "      <td>['Roman à clef', 'Satire', \"Children's literat...</td>\n",
       "      <td>Old Major, the old boar on the Manor Farm, ca...</td>\n",
       "      <td>https://encrypted-tbn3.gstatic.com/images?q=tb...</td>\n",
       "      <td>1945</td>\n",
       "    </tr>\n",
       "    <tr>\n",
       "      <th>1</th>\n",
       "      <td>/m/0k36</td>\n",
       "      <td>A Clockwork Orange</td>\n",
       "      <td>Anthony Burgess</td>\n",
       "      <td>1962</td>\n",
       "      <td>['Science Fiction', 'Novella', 'Speculative fi...</td>\n",
       "      <td>Alex, a teenager living in near-future Englan...</td>\n",
       "      <td>https://encrypted-tbn2.gstatic.com/images?q=tb...</td>\n",
       "      <td>1962</td>\n",
       "    </tr>\n",
       "    <tr>\n",
       "      <th>2</th>\n",
       "      <td>/m/0ldx</td>\n",
       "      <td>The Plague</td>\n",
       "      <td>Albert Camus</td>\n",
       "      <td>1947</td>\n",
       "      <td>['Existentialism', 'Fiction', 'Absurdist ficti...</td>\n",
       "      <td>The text of The Plague is divided into five p...</td>\n",
       "      <td>https://encrypted-tbn1.gstatic.com/images?q=tb...</td>\n",
       "      <td>1947</td>\n",
       "    </tr>\n",
       "    <tr>\n",
       "      <th>3</th>\n",
       "      <td>/m/0x5g</td>\n",
       "      <td>All Quiet on the Western Front</td>\n",
       "      <td>Erich Maria Remarque</td>\n",
       "      <td>1929-01-29</td>\n",
       "      <td>['War novel', 'Roman à clef']</td>\n",
       "      <td>The book tells the story of Paul Bäumer, a Ge...</td>\n",
       "      <td>https://encrypted-tbn0.gstatic.com/images?q=tb...</td>\n",
       "      <td>1929</td>\n",
       "    </tr>\n",
       "    <tr>\n",
       "      <th>4</th>\n",
       "      <td>/m/011zx</td>\n",
       "      <td>A Wizard of Earthsea</td>\n",
       "      <td>Ursula K. Le Guin</td>\n",
       "      <td>1968</td>\n",
       "      <td>[\"Children's literature\", 'Fantasy', 'Speculat...</td>\n",
       "      <td>Ged is a young boy on Gont, one of the larger...</td>\n",
       "      <td>https://encrypted-tbn1.gstatic.com/images?q=tb...</td>\n",
       "      <td>1968</td>\n",
       "    </tr>\n",
       "    <tr>\n",
       "      <th>...</th>\n",
       "      <td>...</td>\n",
       "      <td>...</td>\n",
       "      <td>...</td>\n",
       "      <td>...</td>\n",
       "      <td>...</td>\n",
       "      <td>...</td>\n",
       "      <td>...</td>\n",
       "      <td>...</td>\n",
       "    </tr>\n",
       "    <tr>\n",
       "      <th>9288</th>\n",
       "      <td>/m/02vqwsp</td>\n",
       "      <td>The Third Lynx</td>\n",
       "      <td>Timothy Zahn</td>\n",
       "      <td>2007</td>\n",
       "      <td>['Science Fiction']</td>\n",
       "      <td>The story starts with former government agent...</td>\n",
       "      <td>NaN</td>\n",
       "      <td>2007</td>\n",
       "    </tr>\n",
       "    <tr>\n",
       "      <th>9289</th>\n",
       "      <td>/m/072y44</td>\n",
       "      <td>Remote Control</td>\n",
       "      <td>Andy McNab</td>\n",
       "      <td>1997</td>\n",
       "      <td>['Thriller', 'Fiction', 'Suspense']</td>\n",
       "      <td>The series follows the character of Nick Ston...</td>\n",
       "      <td>NaN</td>\n",
       "      <td>1997</td>\n",
       "    </tr>\n",
       "    <tr>\n",
       "      <th>9290</th>\n",
       "      <td>/m/04f1nbs</td>\n",
       "      <td>Transfer of Power</td>\n",
       "      <td>Vince Flynn</td>\n",
       "      <td>2000-06-01</td>\n",
       "      <td>['Thriller', 'Fiction']</td>\n",
       "      <td>The reader first meets Rapp while he is doing...</td>\n",
       "      <td>NaN</td>\n",
       "      <td>2000</td>\n",
       "    </tr>\n",
       "    <tr>\n",
       "      <th>9291</th>\n",
       "      <td>/m/0n5236t</td>\n",
       "      <td>Decoded</td>\n",
       "      <td>Jay-Z</td>\n",
       "      <td>2010-11-16</td>\n",
       "      <td>['Autobiography']</td>\n",
       "      <td>The book follows very rough chronological ord...</td>\n",
       "      <td>NaN</td>\n",
       "      <td>2010</td>\n",
       "    </tr>\n",
       "    <tr>\n",
       "      <th>9292</th>\n",
       "      <td>/m/073nkd</td>\n",
       "      <td>Poor Folk</td>\n",
       "      <td>Fyodor Dostoyevsky</td>\n",
       "      <td>1846</td>\n",
       "      <td>['Epistolary novel', 'Speculative fiction']</td>\n",
       "      <td>Makar Devushkin and Varvara Dobroselova are s...</td>\n",
       "      <td>NaN</td>\n",
       "      <td>1846</td>\n",
       "    </tr>\n",
       "  </tbody>\n",
       "</table>\n",
       "<p>9293 rows × 8 columns</p>\n",
       "</div>"
      ],
      "text/plain": [
       "     freebase_id                      book_title                author  \\\n",
       "0        /m/0hhy                     Animal Farm         George Orwell   \n",
       "1        /m/0k36              A Clockwork Orange       Anthony Burgess   \n",
       "2        /m/0ldx                      The Plague          Albert Camus   \n",
       "3        /m/0x5g  All Quiet on the Western Front  Erich Maria Remarque   \n",
       "4       /m/011zx            A Wizard of Earthsea     Ursula K. Le Guin   \n",
       "...          ...                             ...                   ...   \n",
       "9288  /m/02vqwsp                  The Third Lynx          Timothy Zahn   \n",
       "9289   /m/072y44                  Remote Control            Andy McNab   \n",
       "9290  /m/04f1nbs               Transfer of Power           Vince Flynn   \n",
       "9291  /m/0n5236t                         Decoded                 Jay-Z   \n",
       "9292   /m/073nkd                       Poor Folk    Fyodor Dostoyevsky   \n",
       "\n",
       "        pub_date                                         book_genre  \\\n",
       "0     1945-08-17  ['Roman à clef', 'Satire', \"Children's literat...   \n",
       "1           1962  ['Science Fiction', 'Novella', 'Speculative fi...   \n",
       "2           1947  ['Existentialism', 'Fiction', 'Absurdist ficti...   \n",
       "3     1929-01-29                      ['War novel', 'Roman à clef']   \n",
       "4           1968  [\"Children's literature\", 'Fantasy', 'Speculat...   \n",
       "...          ...                                                ...   \n",
       "9288        2007                                ['Science Fiction']   \n",
       "9289        1997                ['Thriller', 'Fiction', 'Suspense']   \n",
       "9290  2000-06-01                            ['Thriller', 'Fiction']   \n",
       "9291  2010-11-16                                  ['Autobiography']   \n",
       "9292        1846        ['Epistolary novel', 'Speculative fiction']   \n",
       "\n",
       "                                                summary  \\\n",
       "0      Old Major, the old boar on the Manor Farm, ca...   \n",
       "1      Alex, a teenager living in near-future Englan...   \n",
       "2      The text of The Plague is divided into five p...   \n",
       "3      The book tells the story of Paul Bäumer, a Ge...   \n",
       "4      Ged is a young boy on Gont, one of the larger...   \n",
       "...                                                 ...   \n",
       "9288   The story starts with former government agent...   \n",
       "9289   The series follows the character of Nick Ston...   \n",
       "9290   The reader first meets Rapp while he is doing...   \n",
       "9291   The book follows very rough chronological ord...   \n",
       "9292   Makar Devushkin and Varvara Dobroselova are s...   \n",
       "\n",
       "                                                    url  pub_year  \n",
       "0     https://encrypted-tbn3.gstatic.com/images?q=tb...      1945  \n",
       "1     https://encrypted-tbn2.gstatic.com/images?q=tb...      1962  \n",
       "2     https://encrypted-tbn1.gstatic.com/images?q=tb...      1947  \n",
       "3     https://encrypted-tbn0.gstatic.com/images?q=tb...      1929  \n",
       "4     https://encrypted-tbn1.gstatic.com/images?q=tb...      1968  \n",
       "...                                                 ...       ...  \n",
       "9288                                                NaN      2007  \n",
       "9289                                                NaN      1997  \n",
       "9290                                                NaN      2000  \n",
       "9291                                                NaN      2010  \n",
       "9292                                                NaN      1846  \n",
       "\n",
       "[9293 rows x 8 columns]"
      ]
     },
     "execution_count": 10,
     "metadata": {},
     "output_type": "execute_result"
    }
   ],
   "source": [
    "df"
   ]
  }
 ],
 "metadata": {
  "interpreter": {
   "hash": "8101e1b09e9e663bcba21d7557d2c251b68facdd702628e2fcb2cb7bd4c3e7e9"
  },
  "kernelspec": {
   "display_name": "Python 3.8.10 ('.venv': venv)",
   "language": "python",
   "name": "python3"
  },
  "language_info": {
   "codemirror_mode": {
    "name": "ipython",
    "version": 3
   },
   "file_extension": ".py",
   "mimetype": "text/x-python",
   "name": "python",
   "nbconvert_exporter": "python",
   "pygments_lexer": "ipython3",
   "version": "3.8.10"
  },
  "orig_nbformat": 4
 },
 "nbformat": 4,
 "nbformat_minor": 2
}
